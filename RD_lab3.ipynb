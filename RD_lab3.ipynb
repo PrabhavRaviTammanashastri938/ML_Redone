{
 "cells": [
  {
   "cell_type": "code",
   "execution_count": 1,
   "id": "c16579ea-88e3-47a3-ac1d-255e4881d157",
   "metadata": {},
   "outputs": [],
   "source": [
    "import pandas as pd\n",
    "import numpy as np\n",
    "import seaborn as sns\n",
    "import matplotlib.pyplot as plt"
   ]
  },
  {
   "cell_type": "code",
   "execution_count": 2,
   "id": "bf230d1a-e599-4084-9925-ddb6b51a55d7",
   "metadata": {},
   "outputs": [
    {
     "data": {
      "text/html": [
       "<div>\n",
       "<style scoped>\n",
       "    .dataframe tbody tr th:only-of-type {\n",
       "        vertical-align: middle;\n",
       "    }\n",
       "\n",
       "    .dataframe tbody tr th {\n",
       "        vertical-align: top;\n",
       "    }\n",
       "\n",
       "    .dataframe thead th {\n",
       "        text-align: right;\n",
       "    }\n",
       "</style>\n",
       "<table border=\"1\" class=\"dataframe\">\n",
       "  <thead>\n",
       "    <tr style=\"text-align: right;\">\n",
       "      <th></th>\n",
       "      <th>Label</th>\n",
       "      <th>embed_0</th>\n",
       "      <th>embed_1</th>\n",
       "      <th>embed_2</th>\n",
       "      <th>embed_3</th>\n",
       "      <th>embed_4</th>\n",
       "      <th>embed_5</th>\n",
       "      <th>embed_6</th>\n",
       "      <th>embed_7</th>\n",
       "      <th>embed_8</th>\n",
       "      <th>...</th>\n",
       "      <th>embed_758</th>\n",
       "      <th>embed_759</th>\n",
       "      <th>embed_760</th>\n",
       "      <th>embed_761</th>\n",
       "      <th>embed_762</th>\n",
       "      <th>embed_763</th>\n",
       "      <th>embed_764</th>\n",
       "      <th>embed_765</th>\n",
       "      <th>embed_766</th>\n",
       "      <th>embed_767</th>\n",
       "    </tr>\n",
       "  </thead>\n",
       "  <tbody>\n",
       "    <tr>\n",
       "      <th>0</th>\n",
       "      <td>0</td>\n",
       "      <td>0.009625</td>\n",
       "      <td>-0.029216</td>\n",
       "      <td>0.027109</td>\n",
       "      <td>0.023631</td>\n",
       "      <td>-0.004972</td>\n",
       "      <td>0.031757</td>\n",
       "      <td>-0.045125</td>\n",
       "      <td>0.044483</td>\n",
       "      <td>0.019400</td>\n",
       "      <td>...</td>\n",
       "      <td>-0.045697</td>\n",
       "      <td>-0.001972</td>\n",
       "      <td>-0.008154</td>\n",
       "      <td>-0.056139</td>\n",
       "      <td>0.009890</td>\n",
       "      <td>0.042366</td>\n",
       "      <td>0.040134</td>\n",
       "      <td>0.009304</td>\n",
       "      <td>-0.016137</td>\n",
       "      <td>-0.009309</td>\n",
       "    </tr>\n",
       "    <tr>\n",
       "      <th>1</th>\n",
       "      <td>0</td>\n",
       "      <td>-0.007535</td>\n",
       "      <td>-0.039844</td>\n",
       "      <td>0.030167</td>\n",
       "      <td>0.031224</td>\n",
       "      <td>0.004742</td>\n",
       "      <td>0.028289</td>\n",
       "      <td>-0.068723</td>\n",
       "      <td>0.039153</td>\n",
       "      <td>0.019596</td>\n",
       "      <td>...</td>\n",
       "      <td>-0.056834</td>\n",
       "      <td>0.008613</td>\n",
       "      <td>-0.006578</td>\n",
       "      <td>-0.034220</td>\n",
       "      <td>0.027574</td>\n",
       "      <td>0.045456</td>\n",
       "      <td>0.027402</td>\n",
       "      <td>0.017837</td>\n",
       "      <td>-0.035009</td>\n",
       "      <td>-0.010062</td>\n",
       "    </tr>\n",
       "    <tr>\n",
       "      <th>2</th>\n",
       "      <td>0</td>\n",
       "      <td>0.022408</td>\n",
       "      <td>-0.030840</td>\n",
       "      <td>0.032328</td>\n",
       "      <td>0.046965</td>\n",
       "      <td>0.007798</td>\n",
       "      <td>0.025860</td>\n",
       "      <td>-0.065093</td>\n",
       "      <td>0.035118</td>\n",
       "      <td>0.035359</td>\n",
       "      <td>...</td>\n",
       "      <td>-0.016249</td>\n",
       "      <td>0.020413</td>\n",
       "      <td>-0.034288</td>\n",
       "      <td>-0.050649</td>\n",
       "      <td>0.028408</td>\n",
       "      <td>0.040412</td>\n",
       "      <td>0.030261</td>\n",
       "      <td>0.003535</td>\n",
       "      <td>-0.034122</td>\n",
       "      <td>-0.017289</td>\n",
       "    </tr>\n",
       "    <tr>\n",
       "      <th>3</th>\n",
       "      <td>0</td>\n",
       "      <td>0.019677</td>\n",
       "      <td>-0.034055</td>\n",
       "      <td>0.012662</td>\n",
       "      <td>0.070387</td>\n",
       "      <td>-0.011170</td>\n",
       "      <td>0.017842</td>\n",
       "      <td>-0.050945</td>\n",
       "      <td>0.044878</td>\n",
       "      <td>0.034781</td>\n",
       "      <td>...</td>\n",
       "      <td>-0.038879</td>\n",
       "      <td>0.002963</td>\n",
       "      <td>-0.018754</td>\n",
       "      <td>-0.053278</td>\n",
       "      <td>0.033005</td>\n",
       "      <td>0.031635</td>\n",
       "      <td>0.022544</td>\n",
       "      <td>-0.011774</td>\n",
       "      <td>-0.011125</td>\n",
       "      <td>-0.017540</td>\n",
       "    </tr>\n",
       "    <tr>\n",
       "      <th>4</th>\n",
       "      <td>0</td>\n",
       "      <td>0.017678</td>\n",
       "      <td>-0.030323</td>\n",
       "      <td>0.012829</td>\n",
       "      <td>0.065267</td>\n",
       "      <td>-0.025161</td>\n",
       "      <td>0.011964</td>\n",
       "      <td>-0.050590</td>\n",
       "      <td>0.042820</td>\n",
       "      <td>0.029161</td>\n",
       "      <td>...</td>\n",
       "      <td>-0.042079</td>\n",
       "      <td>0.010192</td>\n",
       "      <td>-0.010147</td>\n",
       "      <td>-0.035857</td>\n",
       "      <td>0.021784</td>\n",
       "      <td>0.034621</td>\n",
       "      <td>0.017342</td>\n",
       "      <td>-0.009884</td>\n",
       "      <td>-0.010316</td>\n",
       "      <td>-0.029238</td>\n",
       "    </tr>\n",
       "  </tbody>\n",
       "</table>\n",
       "<p>5 rows × 769 columns</p>\n",
       "</div>"
      ],
      "text/plain": [
       "   Label   embed_0   embed_1   embed_2   embed_3   embed_4   embed_5  \\\n",
       "0      0  0.009625 -0.029216  0.027109  0.023631 -0.004972  0.031757   \n",
       "1      0 -0.007535 -0.039844  0.030167  0.031224  0.004742  0.028289   \n",
       "2      0  0.022408 -0.030840  0.032328  0.046965  0.007798  0.025860   \n",
       "3      0  0.019677 -0.034055  0.012662  0.070387 -0.011170  0.017842   \n",
       "4      0  0.017678 -0.030323  0.012829  0.065267 -0.025161  0.011964   \n",
       "\n",
       "    embed_6   embed_7   embed_8  ...  embed_758  embed_759  embed_760  \\\n",
       "0 -0.045125  0.044483  0.019400  ...  -0.045697  -0.001972  -0.008154   \n",
       "1 -0.068723  0.039153  0.019596  ...  -0.056834   0.008613  -0.006578   \n",
       "2 -0.065093  0.035118  0.035359  ...  -0.016249   0.020413  -0.034288   \n",
       "3 -0.050945  0.044878  0.034781  ...  -0.038879   0.002963  -0.018754   \n",
       "4 -0.050590  0.042820  0.029161  ...  -0.042079   0.010192  -0.010147   \n",
       "\n",
       "   embed_761  embed_762  embed_763  embed_764  embed_765  embed_766  embed_767  \n",
       "0  -0.056139   0.009890   0.042366   0.040134   0.009304  -0.016137  -0.009309  \n",
       "1  -0.034220   0.027574   0.045456   0.027402   0.017837  -0.035009  -0.010062  \n",
       "2  -0.050649   0.028408   0.040412   0.030261   0.003535  -0.034122  -0.017289  \n",
       "3  -0.053278   0.033005   0.031635   0.022544  -0.011774  -0.011125  -0.017540  \n",
       "4  -0.035857   0.021784   0.034621   0.017342  -0.009884  -0.010316  -0.029238  \n",
       "\n",
       "[5 rows x 769 columns]"
      ]
     },
     "execution_count": 2,
     "metadata": {},
     "output_type": "execute_result"
    }
   ],
   "source": [
    "df = pd.read_excel(r'embeddingsdata - Copy.xlsx')\n",
    "df.head()"
   ]
  },
  {
   "cell_type": "code",
   "execution_count": 3,
   "id": "9f3b7468-202b-44e8-8822-75f96fc9c84b",
   "metadata": {},
   "outputs": [
    {
     "data": {
      "text/html": [
       "<div>\n",
       "<style scoped>\n",
       "    .dataframe tbody tr th:only-of-type {\n",
       "        vertical-align: middle;\n",
       "    }\n",
       "\n",
       "    .dataframe tbody tr th {\n",
       "        vertical-align: top;\n",
       "    }\n",
       "\n",
       "    .dataframe thead th {\n",
       "        text-align: right;\n",
       "    }\n",
       "</style>\n",
       "<table border=\"1\" class=\"dataframe\">\n",
       "  <thead>\n",
       "    <tr style=\"text-align: right;\">\n",
       "      <th></th>\n",
       "      <th>Label</th>\n",
       "      <th>embed_0</th>\n",
       "      <th>embed_1</th>\n",
       "      <th>embed_2</th>\n",
       "      <th>embed_3</th>\n",
       "      <th>embed_4</th>\n",
       "      <th>embed_5</th>\n",
       "      <th>embed_6</th>\n",
       "      <th>embed_7</th>\n",
       "      <th>embed_8</th>\n",
       "      <th>...</th>\n",
       "      <th>embed_758</th>\n",
       "      <th>embed_759</th>\n",
       "      <th>embed_760</th>\n",
       "      <th>embed_761</th>\n",
       "      <th>embed_762</th>\n",
       "      <th>embed_763</th>\n",
       "      <th>embed_764</th>\n",
       "      <th>embed_765</th>\n",
       "      <th>embed_766</th>\n",
       "      <th>embed_767</th>\n",
       "    </tr>\n",
       "  </thead>\n",
       "  <tbody>\n",
       "    <tr>\n",
       "      <th>count</th>\n",
       "      <td>900.000000</td>\n",
       "      <td>900.000000</td>\n",
       "      <td>900.000000</td>\n",
       "      <td>900.000000</td>\n",
       "      <td>900.000000</td>\n",
       "      <td>900.000000</td>\n",
       "      <td>900.000000</td>\n",
       "      <td>900.000000</td>\n",
       "      <td>900.000000</td>\n",
       "      <td>900.000000</td>\n",
       "      <td>...</td>\n",
       "      <td>900.000000</td>\n",
       "      <td>900.000000</td>\n",
       "      <td>900.000000</td>\n",
       "      <td>900.000000</td>\n",
       "      <td>900.000000</td>\n",
       "      <td>900.000000</td>\n",
       "      <td>900.000000</td>\n",
       "      <td>900.000000</td>\n",
       "      <td>900.000000</td>\n",
       "      <td>900.000000</td>\n",
       "    </tr>\n",
       "    <tr>\n",
       "      <th>mean</th>\n",
       "      <td>1.751111</td>\n",
       "      <td>0.008983</td>\n",
       "      <td>-0.025840</td>\n",
       "      <td>0.026057</td>\n",
       "      <td>0.044410</td>\n",
       "      <td>0.000759</td>\n",
       "      <td>0.013850</td>\n",
       "      <td>-0.059033</td>\n",
       "      <td>0.038857</td>\n",
       "      <td>0.034926</td>\n",
       "      <td>...</td>\n",
       "      <td>-0.033964</td>\n",
       "      <td>0.001379</td>\n",
       "      <td>-0.020182</td>\n",
       "      <td>-0.051826</td>\n",
       "      <td>0.020040</td>\n",
       "      <td>0.037724</td>\n",
       "      <td>0.020917</td>\n",
       "      <td>0.012222</td>\n",
       "      <td>-0.018116</td>\n",
       "      <td>-0.020047</td>\n",
       "    </tr>\n",
       "    <tr>\n",
       "      <th>std</th>\n",
       "      <td>2.444546</td>\n",
       "      <td>0.013080</td>\n",
       "      <td>0.014345</td>\n",
       "      <td>0.012180</td>\n",
       "      <td>0.012642</td>\n",
       "      <td>0.012814</td>\n",
       "      <td>0.011169</td>\n",
       "      <td>0.009884</td>\n",
       "      <td>0.009770</td>\n",
       "      <td>0.012038</td>\n",
       "      <td>...</td>\n",
       "      <td>0.012178</td>\n",
       "      <td>0.011610</td>\n",
       "      <td>0.010045</td>\n",
       "      <td>0.011161</td>\n",
       "      <td>0.011081</td>\n",
       "      <td>0.010076</td>\n",
       "      <td>0.010277</td>\n",
       "      <td>0.011059</td>\n",
       "      <td>0.011709</td>\n",
       "      <td>0.010896</td>\n",
       "    </tr>\n",
       "    <tr>\n",
       "      <th>min</th>\n",
       "      <td>0.000000</td>\n",
       "      <td>-0.039358</td>\n",
       "      <td>-0.084908</td>\n",
       "      <td>-0.007233</td>\n",
       "      <td>0.007033</td>\n",
       "      <td>-0.055765</td>\n",
       "      <td>-0.028051</td>\n",
       "      <td>-0.086373</td>\n",
       "      <td>0.004234</td>\n",
       "      <td>-0.005650</td>\n",
       "      <td>...</td>\n",
       "      <td>-0.074209</td>\n",
       "      <td>-0.051135</td>\n",
       "      <td>-0.050940</td>\n",
       "      <td>-0.083101</td>\n",
       "      <td>-0.012383</td>\n",
       "      <td>0.005104</td>\n",
       "      <td>-0.012658</td>\n",
       "      <td>-0.030215</td>\n",
       "      <td>-0.052673</td>\n",
       "      <td>-0.049920</td>\n",
       "    </tr>\n",
       "    <tr>\n",
       "      <th>25%</th>\n",
       "      <td>0.000000</td>\n",
       "      <td>-0.000027</td>\n",
       "      <td>-0.034862</td>\n",
       "      <td>0.017528</td>\n",
       "      <td>0.036387</td>\n",
       "      <td>-0.007764</td>\n",
       "      <td>0.007289</td>\n",
       "      <td>-0.065763</td>\n",
       "      <td>0.032636</td>\n",
       "      <td>0.026667</td>\n",
       "      <td>...</td>\n",
       "      <td>-0.042259</td>\n",
       "      <td>-0.006315</td>\n",
       "      <td>-0.026980</td>\n",
       "      <td>-0.060003</td>\n",
       "      <td>0.012729</td>\n",
       "      <td>0.031493</td>\n",
       "      <td>0.014332</td>\n",
       "      <td>0.004693</td>\n",
       "      <td>-0.026373</td>\n",
       "      <td>-0.027255</td>\n",
       "    </tr>\n",
       "    <tr>\n",
       "      <th>50%</th>\n",
       "      <td>1.000000</td>\n",
       "      <td>0.009184</td>\n",
       "      <td>-0.026009</td>\n",
       "      <td>0.025705</td>\n",
       "      <td>0.044498</td>\n",
       "      <td>0.000951</td>\n",
       "      <td>0.014360</td>\n",
       "      <td>-0.059843</td>\n",
       "      <td>0.038992</td>\n",
       "      <td>0.035213</td>\n",
       "      <td>...</td>\n",
       "      <td>-0.033778</td>\n",
       "      <td>0.002049</td>\n",
       "      <td>-0.020128</td>\n",
       "      <td>-0.052381</td>\n",
       "      <td>0.020137</td>\n",
       "      <td>0.037664</td>\n",
       "      <td>0.021242</td>\n",
       "      <td>0.012172</td>\n",
       "      <td>-0.018876</td>\n",
       "      <td>-0.020307</td>\n",
       "    </tr>\n",
       "    <tr>\n",
       "      <th>75%</th>\n",
       "      <td>2.000000</td>\n",
       "      <td>0.018332</td>\n",
       "      <td>-0.016397</td>\n",
       "      <td>0.034142</td>\n",
       "      <td>0.052540</td>\n",
       "      <td>0.009654</td>\n",
       "      <td>0.021493</td>\n",
       "      <td>-0.052747</td>\n",
       "      <td>0.045889</td>\n",
       "      <td>0.043000</td>\n",
       "      <td>...</td>\n",
       "      <td>-0.025644</td>\n",
       "      <td>0.008861</td>\n",
       "      <td>-0.013172</td>\n",
       "      <td>-0.044269</td>\n",
       "      <td>0.026860</td>\n",
       "      <td>0.044129</td>\n",
       "      <td>0.027501</td>\n",
       "      <td>0.019967</td>\n",
       "      <td>-0.010427</td>\n",
       "      <td>-0.012180</td>\n",
       "    </tr>\n",
       "    <tr>\n",
       "      <th>max</th>\n",
       "      <td>10.000000</td>\n",
       "      <td>0.058404</td>\n",
       "      <td>0.013274</td>\n",
       "      <td>0.066939</td>\n",
       "      <td>0.083282</td>\n",
       "      <td>0.034851</td>\n",
       "      <td>0.046588</td>\n",
       "      <td>-0.027718</td>\n",
       "      <td>0.066988</td>\n",
       "      <td>0.071390</td>\n",
       "      <td>...</td>\n",
       "      <td>0.000070</td>\n",
       "      <td>0.038822</td>\n",
       "      <td>0.008411</td>\n",
       "      <td>-0.017419</td>\n",
       "      <td>0.060821</td>\n",
       "      <td>0.073698</td>\n",
       "      <td>0.051190</td>\n",
       "      <td>0.044975</td>\n",
       "      <td>0.025080</td>\n",
       "      <td>0.033281</td>\n",
       "    </tr>\n",
       "  </tbody>\n",
       "</table>\n",
       "<p>8 rows × 769 columns</p>\n",
       "</div>"
      ],
      "text/plain": [
       "            Label     embed_0     embed_1     embed_2     embed_3     embed_4  \\\n",
       "count  900.000000  900.000000  900.000000  900.000000  900.000000  900.000000   \n",
       "mean     1.751111    0.008983   -0.025840    0.026057    0.044410    0.000759   \n",
       "std      2.444546    0.013080    0.014345    0.012180    0.012642    0.012814   \n",
       "min      0.000000   -0.039358   -0.084908   -0.007233    0.007033   -0.055765   \n",
       "25%      0.000000   -0.000027   -0.034862    0.017528    0.036387   -0.007764   \n",
       "50%      1.000000    0.009184   -0.026009    0.025705    0.044498    0.000951   \n",
       "75%      2.000000    0.018332   -0.016397    0.034142    0.052540    0.009654   \n",
       "max     10.000000    0.058404    0.013274    0.066939    0.083282    0.034851   \n",
       "\n",
       "          embed_5     embed_6     embed_7     embed_8  ...   embed_758  \\\n",
       "count  900.000000  900.000000  900.000000  900.000000  ...  900.000000   \n",
       "mean     0.013850   -0.059033    0.038857    0.034926  ...   -0.033964   \n",
       "std      0.011169    0.009884    0.009770    0.012038  ...    0.012178   \n",
       "min     -0.028051   -0.086373    0.004234   -0.005650  ...   -0.074209   \n",
       "25%      0.007289   -0.065763    0.032636    0.026667  ...   -0.042259   \n",
       "50%      0.014360   -0.059843    0.038992    0.035213  ...   -0.033778   \n",
       "75%      0.021493   -0.052747    0.045889    0.043000  ...   -0.025644   \n",
       "max      0.046588   -0.027718    0.066988    0.071390  ...    0.000070   \n",
       "\n",
       "        embed_759   embed_760   embed_761   embed_762   embed_763   embed_764  \\\n",
       "count  900.000000  900.000000  900.000000  900.000000  900.000000  900.000000   \n",
       "mean     0.001379   -0.020182   -0.051826    0.020040    0.037724    0.020917   \n",
       "std      0.011610    0.010045    0.011161    0.011081    0.010076    0.010277   \n",
       "min     -0.051135   -0.050940   -0.083101   -0.012383    0.005104   -0.012658   \n",
       "25%     -0.006315   -0.026980   -0.060003    0.012729    0.031493    0.014332   \n",
       "50%      0.002049   -0.020128   -0.052381    0.020137    0.037664    0.021242   \n",
       "75%      0.008861   -0.013172   -0.044269    0.026860    0.044129    0.027501   \n",
       "max      0.038822    0.008411   -0.017419    0.060821    0.073698    0.051190   \n",
       "\n",
       "        embed_765   embed_766   embed_767  \n",
       "count  900.000000  900.000000  900.000000  \n",
       "mean     0.012222   -0.018116   -0.020047  \n",
       "std      0.011059    0.011709    0.010896  \n",
       "min     -0.030215   -0.052673   -0.049920  \n",
       "25%      0.004693   -0.026373   -0.027255  \n",
       "50%      0.012172   -0.018876   -0.020307  \n",
       "75%      0.019967   -0.010427   -0.012180  \n",
       "max      0.044975    0.025080    0.033281  \n",
       "\n",
       "[8 rows x 769 columns]"
      ]
     },
     "execution_count": 3,
     "metadata": {},
     "output_type": "execute_result"
    }
   ],
   "source": [
    "df.describe()"
   ]
  },
  {
   "cell_type": "markdown",
   "id": "eade9803-ab67-4b12-b1ef-8ba5358ecaae",
   "metadata": {},
   "source": [
    "## A1"
   ]
  },
  {
   "cell_type": "markdown",
   "id": "01724a36-6eb8-47bd-b871-105d43842d62",
   "metadata": {},
   "source": [
    "Evaluate the intraclass spread and interclass distances between the classes in your dataset. If \n",
    "your data deals with multiple classes, you can take any two classes."
   ]
  },
  {
   "cell_type": "code",
   "execution_count": 6,
   "id": "16a403b0-be76-4f0d-92ab-da0e39a78ca2",
   "metadata": {},
   "outputs": [],
   "source": [
    "a = df['embed_1']\n",
    "b = df['embed_2']"
   ]
  },
  {
   "cell_type": "code",
   "execution_count": 8,
   "id": "89eb9d6d-29b5-482f-b16b-13c6e6853283",
   "metadata": {},
   "outputs": [
    {
     "name": "stdout",
     "output_type": "stream",
     "text": [
      "Mean Values of Two Classes\n",
      "-0.025840109987570435\n",
      "0.02605731548386555\n",
      "\n",
      "\n",
      "Standard Deviation Values of Two Classes\n",
      "0.014344794429404763\n",
      "0.012180062306769216\n"
     ]
    }
   ],
   "source": [
    "print(\"Mean Values of Two Classes\")\n",
    "print(a.mean())\n",
    "print(b.mean())\n",
    "print(\"\\n\")\n",
    "print(\"Standard Deviation Values of Two Classes\")\n",
    "print(a.std())\n",
    "print(b.std())"
   ]
  },
  {
   "cell_type": "code",
   "execution_count": 12,
   "id": "8bc64562-efd5-4b93-a3c2-d650f338edf9",
   "metadata": {},
   "outputs": [
    {
     "name": "stdout",
     "output_type": "stream",
     "text": [
      "Distance between two Classes =  0.051897425471435985\n"
     ]
    }
   ],
   "source": [
    "print(\"Distance between two Classes = \" , np.linalg.norm(a.mean() - b.mean()))"
   ]
  },
  {
   "cell_type": "markdown",
   "id": "c892ea13-bd54-429c-97f3-30c990606b8f",
   "metadata": {},
   "source": [
    "## A2"
   ]
  },
  {
   "cell_type": "markdown",
   "id": "81c772c7-750e-490a-85df-e9ebe5af43f8",
   "metadata": {},
   "source": [
    "Take any feature from your dataset. Observe the density pattern for that feature by plotting the \n",
    "histogram."
   ]
  },
  {
   "cell_type": "code",
   "execution_count": 15,
   "id": "ad333ab7-a78b-436c-a81e-d0b93fc0b4db",
   "metadata": {},
   "outputs": [],
   "source": [
    "X = df['embed_1']"
   ]
  },
  {
   "cell_type": "code",
   "execution_count": 17,
   "id": "d5ae6369-8b42-4301-99ed-3cdc86e5592d",
   "metadata": {},
   "outputs": [
    {
     "name": "stderr",
     "output_type": "stream",
     "text": [
      "C:\\Users\\Pranav\\AppData\\Local\\Temp\\ipykernel_3536\\1160901733.py:1: UserWarning: Ignoring `palette` because no `hue` variable has been assigned.\n",
      "  sns.histplot(X,palette=\"coolwarm\",kde=True)\n"
     ]
    },
    {
     "data": {
      "text/plain": [
       "<Axes: xlabel='embed_1', ylabel='Count'>"
      ]
     },
     "execution_count": 17,
     "metadata": {},
     "output_type": "execute_result"
    },
    {
     "data": {
      "image/png": "[encoded data removed]",
      "text/plain": [
       "<Figure size 640x480 with 1 Axes>"
      ]
     },
     "metadata": {},
     "output_type": "display_data"
    }
   ],
   "source": [
    "sns.histplot(X,palette=\"coolwarm\",kde=True)"
   ]
  },
  {
   "cell_type": "markdown",
   "id": "e85ddb23-bd2a-4189-b31f-6070b9bad110",
   "metadata": {},
   "source": [
    "## A3"
   ]
  },
  {
   "cell_type": "markdown",
   "id": "70b416ba-df01-407c-9e56-84a2ac0e4d34",
   "metadata": {},
   "source": [
    "Take any two feature vectors from your dataset. Calculate the Minkwoski distance with r from 1 \n",
    "to 10. Make a plot of the distance and observe the nature of this graph."
   ]
  },
  {
   "cell_type": "code",
   "execution_count": 23,
   "id": "00728f7f-b479-4b62-b224-0c6ec8c925a5",
   "metadata": {},
   "outputs": [],
   "source": [
    "vector1 = df['embed_1'].values"
   ]
  },
  {
   "cell_type": "code",
   "execution_count": 24,
   "id": "24ee4147-e449-4a31-aeb8-580a096ba6fd",
   "metadata": {},
   "outputs": [],
   "source": [
    "vector2 = df['embed_2'].values"
   ]
  },
  {
   "cell_type": "code",
   "execution_count": 25,
   "id": "dec63c1e-5187-4c2c-80ae-e6fbb08db56f",
   "metadata": {},
   "outputs": [],
   "source": [
    "r_values = list(range(1, 11))\n",
    "distances = []\n",
    "\n",
    "for r in r_values:\n",
    "    distance = np.power(np.sum(np.abs(vector1 - vector2) ** r), 1/r)\n",
    "    distances.append(distance)"
   ]
  },
  {
   "cell_type": "code",
   "execution_count": 30,
   "id": "85c76905-1d75-4409-9d46-9cbef4eaf8cc",
   "metadata": {},
   "outputs": [
    {
     "data": {
      "image/png": "[encoded data removed]",
      "text/plain": [
       "<Figure size 800x600 with 1 Axes>"
      ]
     },
     "metadata": {},
     "output_type": "display_data"
    }
   ],
   "source": [
    "plt.figure(figsize=(8, 6))\n",
    "plt.plot(r_values, distances, marker='s', linestyle=':',markeredgecolor=\"red\")\n",
    "plt.title('Minkowski Distance between Vector 1 and Vector 2')\n",
    "plt.xlabel('r')\n",
    "plt.ylabel('Distance')\n",
    "plt.grid(True)\n",
    "plt.show()"
   ]
  },
  {
   "cell_type": "markdown",
   "id": "500b4ef7-d914-426c-bdad-d36187f215fe",
   "metadata": {},
   "source": [
    "## A4"
   ]
  },
  {
   "cell_type": "markdown",
   "id": "44f0be57-4c90-4498-ab79-322875b5580f",
   "metadata": {},
   "source": [
    "Divide dataset in your project into two parts – train & test set. "
   ]
  },
  {
   "cell_type": "code",
   "execution_count": 31,
   "id": "20a9e9d0-684f-48be-ab22-524595baa6e6",
   "metadata": {},
   "outputs": [],
   "source": [
    "from sklearn.model_selection import train_test_split"
   ]
  },
  {
   "cell_type": "code",
   "execution_count": 32,
   "id": "49488cae-d50b-4301-baf8-f8d841e44fb1",
   "metadata": {},
   "outputs": [],
   "source": [
    "X = df[df.columns[1:]]\n",
    "y = df['Label']"
   ]
  },
  {
   "cell_type": "code",
   "execution_count": 33,
   "id": "f86c0e90-714d-4b3b-bd33-c1f9dae09b2f",
   "metadata": {},
   "outputs": [],
   "source": [
    "X_train , X_test , y_train , y_test = train_test_split(X,y,test_size=0.3,random_state=42)"
   ]
  },
  {
   "cell_type": "markdown",
   "id": "aa210a50-7b31-4be3-a0ca-d5958f739dbe",
   "metadata": {},
   "source": [
    "## A5"
   ]
  },
  {
   "cell_type": "markdown",
   "id": "ed925026-0d2b-417c-8752-99b85261cb0c",
   "metadata": {},
   "source": [
    "Train a kNN classifier (k =3) using the training set obtained from above exercise."
   ]
  },
  {
   "cell_type": "code",
   "execution_count": 34,
   "id": "cb6a2398-2b48-45eb-aa26-4aa4e08cbc09",
   "metadata": {},
   "outputs": [],
   "source": [
    "from sklearn.neighbors import KNeighborsClassifier"
   ]
  },
  {
   "cell_type": "code",
   "execution_count": 35,
   "id": "07d12543-1405-489c-8cea-fa049a10c82d",
   "metadata": {},
   "outputs": [],
   "source": [
    "knn = KNeighborsClassifier(n_neighbors=3)"
   ]
  },
  {
   "cell_type": "code",
   "execution_count": 44,
   "id": "4f191d02-ff8a-4743-8799-232a307416e6",
   "metadata": {},
   "outputs": [
    {
     "data": {
      "text/html": [
       "<style>#sk-container-id-2 {color: black;}#sk-container-id-2 pre{padding: 0;}#sk-container-id-2 div.sk-toggleable {background-color: white;}#sk-container-id-2 label.sk-toggleable__label {cursor: pointer;display: block;width: 100%;margin-bottom: 0;padding: 0.3em;box-sizing: border-box;text-align: center;}#sk-container-id-2 label.sk-toggleable__label-arrow:before {content: \"▸\";float: left;margin-right: 0.25em;color: #696969;}#sk-container-id-2 label.sk-toggleable__label-arrow:hover:before {color: black;}#sk-container-id-2 div.sk-estimator:hover label.sk-toggleable__label-arrow:before {color: black;}#sk-container-id-2 div.sk-toggleable__content {max-height: 0;max-width: 0;overflow: hidden;text-align: left;background-color: #f0f8ff;}#sk-container-id-2 div.sk-toggleable__content pre {margin: 0.2em;color: black;border-radius: 0.25em;background-color: #f0f8ff;}#sk-container-id-2 input.sk-toggleable__control:checked~div.sk-toggleable__content {max-height: 200px;max-width: 100%;overflow: auto;}#sk-container-id-2 input.sk-toggleable__control:checked~label.sk-toggleable__label-arrow:before {content: \"▾\";}#sk-container-id-2 div.sk-estimator input.sk-toggleable__control:checked~label.sk-toggleable__label {background-color: #d4ebff;}#sk-container-id-2 div.sk-label input.sk-toggleable__control:checked~label.sk-toggleable__label {background-color: #d4ebff;}#sk-container-id-2 input.sk-hidden--visually {border: 0;clip: rect(1px 1px 1px 1px);clip: rect(1px, 1px, 1px, 1px);height: 1px;margin: -1px;overflow: hidden;padding: 0;position: absolute;width: 1px;}#sk-container-id-2 div.sk-estimator {font-family: monospace;background-color: #f0f8ff;border: 1px dotted black;border-radius: 0.25em;box-sizing: border-box;margin-bottom: 0.5em;}#sk-container-id-2 div.sk-estimator:hover {background-color: #d4ebff;}#sk-container-id-2 div.sk-parallel-item::after {content: \"\";width: 100%;border-bottom: 1px solid gray;flex-grow: 1;}#sk-container-id-2 div.sk-label:hover label.sk-toggleable__label {background-color: #d4ebff;}#sk-container-id-2 div.sk-serial::before {content: \"\";position: absolute;border-left: 1px solid gray;box-sizing: border-box;top: 0;bottom: 0;left: 50%;z-index: 0;}#sk-container-id-2 div.sk-serial {display: flex;flex-direction: column;align-items: center;background-color: white;padding-right: 0.2em;padding-left: 0.2em;position: relative;}#sk-container-id-2 div.sk-item {position: relative;z-index: 1;}#sk-container-id-2 div.sk-parallel {display: flex;align-items: stretch;justify-content: center;background-color: white;position: relative;}#sk-container-id-2 div.sk-item::before, #sk-container-id-2 div.sk-parallel-item::before {content: \"\";position: absolute;border-left: 1px solid gray;box-sizing: border-box;top: 0;bottom: 0;left: 50%;z-index: -1;}#sk-container-id-2 div.sk-parallel-item {display: flex;flex-direction: column;z-index: 1;position: relative;background-color: white;}#sk-container-id-2 div.sk-parallel-item:first-child::after {align-self: flex-end;width: 50%;}#sk-container-id-2 div.sk-parallel-item:last-child::after {align-self: flex-start;width: 50%;}#sk-container-id-2 div.sk-parallel-item:only-child::after {width: 0;}#sk-container-id-2 div.sk-dashed-wrapped {border: 1px dashed gray;margin: 0 0.4em 0.5em 0.4em;box-sizing: border-box;padding-bottom: 0.4em;background-color: white;}#sk-container-id-2 div.sk-label label {font-family: monospace;font-weight: bold;display: inline-block;line-height: 1.2em;}#sk-container-id-2 div.sk-label-container {text-align: center;}#sk-container-id-2 div.sk-container {/* jupyter's `normalize.less` sets `[hidden] { display: none; }` but bootstrap.min.css set `[hidden] { display: none !important; }` so we also need the `!important` here to be able to override the default hidden behavior on the sphinx rendered scikit-learn.org. See: https://github.com/scikit-learn/scikit-learn/issues/21755 */display: inline-block !important;position: relative;}#sk-container-id-2 div.sk-text-repr-fallback {display: none;}</style><div id=\"sk-container-id-2\" class=\"sk-top-container\"><div class=\"sk-text-repr-fallback\"><pre>KNeighborsClassifier(n_neighbors=3)</pre><b>In a Jupyter environment, please rerun this cell to show the HTML representation or trust the notebook. <br />On GitHub, the HTML representation is unable to render, please try loading this page with nbviewer.org.</b></div><div class=\"sk-container\" hidden><div class=\"sk-item\"><div class=\"sk-estimator sk-toggleable\"><input class=\"sk-toggleable__control sk-hidden--visually\" id=\"sk-estimator-id-2\" type=\"checkbox\" checked><label for=\"sk-estimator-id-2\" class=\"sk-toggleable__label sk-toggleable__label-arrow\">KNeighborsClassifier</label><div class=\"sk-toggleable__content\"><pre>KNeighborsClassifier(n_neighbors=3)</pre></div></div></div></div></div>"
      ],
      "text/plain": [
       "KNeighborsClassifier(n_neighbors=3)"
      ]
     },
     "execution_count": 44,
     "metadata": {},
     "output_type": "execute_result"
    }
   ],
   "source": [
    "knn.fit(X_train.values,y_train)"
   ]
  },
  {
   "cell_type": "markdown",
   "id": "a9b6b79f-f42e-4be8-9073-08a4c0be4f97",
   "metadata": {},
   "source": [
    "## A6"
   ]
  },
  {
   "cell_type": "markdown",
   "id": "85572be8-6d3e-4753-89fa-a9ded1b92100",
   "metadata": {},
   "source": [
    "Test the accuracy of the kNN using the test set obtained from above exercise."
   ]
  },
  {
   "cell_type": "code",
   "execution_count": 47,
   "id": "b4384f63-3e9e-4ed4-aec2-77a761d46a07",
   "metadata": {},
   "outputs": [
    {
     "data": {
      "text/plain": [
       "0.6074074074074074"
      ]
     },
     "execution_count": 47,
     "metadata": {},
     "output_type": "execute_result"
    }
   ],
   "source": [
    "knn.score(X_test.values,y_test)"
   ]
  },
  {
   "cell_type": "markdown",
   "id": "d9e7056e-cf1d-4fa3-ab2b-130e5a089748",
   "metadata": {},
   "source": [
    "## A7"
   ]
  },
  {
   "cell_type": "markdown",
   "id": "bcbb5b93-7ef2-4c9c-8871-a989a88343ab",
   "metadata": {},
   "source": [
    "Use the predict() function to study the prediction behavior of the classifier for test vectors"
   ]
  },
  {
   "cell_type": "code",
   "execution_count": 48,
   "id": "b3a415d1-5123-45f6-aaee-ea42fb853888",
   "metadata": {},
   "outputs": [],
   "source": [
    "pred = knn.predict(X_test.values)"
   ]
  },
  {
   "cell_type": "code",
   "execution_count": 49,
   "id": "a4e5dbee-71b1-4c26-8be1-8a1bac452f81",
   "metadata": {},
   "outputs": [
    {
     "data": {
      "text/plain": [
       "array([2, 0, 1, 0, 0, 0, 0, 0, 1, 0, 0, 0, 2, 6, 0, 2, 5, 1, 0, 1, 1, 0,\n",
       "       0, 4, 7, 0, 0, 2, 0, 0, 0, 1, 0, 0, 0, 1, 1, 0, 1, 1, 0, 0, 0, 0,\n",
       "       3, 0, 1, 0, 0, 0, 0, 0, 1, 0, 1, 1, 0, 4, 2, 7, 0, 0, 0, 0, 1, 1,\n",
       "       0, 1, 1, 0, 5, 0, 0, 2, 0, 0, 0, 0, 1, 0, 6, 1, 1, 0, 0, 0, 0, 1,\n",
       "       0, 0, 0, 1, 5, 1, 0, 1, 0, 1, 0, 0, 6, 1, 1, 1, 0, 0, 1, 1, 0, 1,\n",
       "       0, 1, 0, 0, 0, 1, 0, 0, 0, 0, 0, 0, 1, 2, 0, 0, 5, 0, 1, 0, 2, 5,\n",
       "       2, 0, 0, 0, 1, 1, 0, 1, 1, 8, 0, 6, 1, 0, 2, 0, 1, 0, 0, 2, 1, 1,\n",
       "       1, 0, 1, 4, 0, 1, 0, 0, 6, 0, 1, 1, 1, 0, 1, 3, 2, 0, 1, 5, 0, 0,\n",
       "       0, 0, 0, 0, 0, 0, 0, 0, 1, 0, 1, 1, 1, 0, 0, 1, 0, 0, 0, 1, 0, 0,\n",
       "       0, 0, 0, 6, 0, 0, 1, 7, 4, 0, 0, 0, 1, 0, 5, 0, 1, 0, 6, 0, 0, 0,\n",
       "       0, 0, 0, 0, 1, 0, 6, 1, 0, 2, 1, 0, 0, 0, 0, 3, 0, 0, 0, 6, 0, 0,\n",
       "       0, 1, 0, 1, 0, 0, 0, 5, 1, 1, 2, 0, 1, 0, 0, 0, 1, 0, 0, 0, 0, 1,\n",
       "       1, 0, 0, 1, 1, 0], dtype=int64)"
      ]
     },
     "execution_count": 49,
     "metadata": {},
     "output_type": "execute_result"
    }
   ],
   "source": [
    "pred"
   ]
  },
  {
   "cell_type": "markdown",
   "id": "794477c3-397f-48f0-b154-5111ee897db9",
   "metadata": {},
   "source": [
    "## A8"
   ]
  },
  {
   "cell_type": "markdown",
   "id": "7017809e-b347-4e57-85e4-239be0c53b0b",
   "metadata": {},
   "source": [
    "Make k = 1 to implement NN classifier and compare the results with kNN (k = 3). Vary k from 1 to \n",
    "11 and make an accuracy plot."
   ]
  },
  {
   "cell_type": "code",
   "execution_count": 52,
   "id": "cf7e931b-249c-43cb-a836-0035049852f0",
   "metadata": {},
   "outputs": [],
   "source": [
    "error_rate = []\n",
    "\n",
    "for i in range(1,11):\n",
    "\n",
    "    knn = KNeighborsClassifier(n_neighbors=i)\n",
    "    knn.fit(X_train.values,y_train)\n",
    "    pred = knn.predict(X_test.values)\n",
    "    error_rate.append(np.mean(pred != y_test))"
   ]
  },
  {
   "cell_type": "code",
   "execution_count": 56,
   "id": "41e62b95-c2ed-4b12-aec7-66c4a7734a1a",
   "metadata": {},
   "outputs": [
    {
     "data": {
      "image/png": "[encoded data removed]",
      "text/plain": [
       "<Figure size 600x600 with 1 Axes>"
      ]
     },
     "metadata": {},
     "output_type": "display_data"
    }
   ],
   "source": [
    "plt.figure(figsize=(6,6))\n",
    "plt.plot(range(1,11),error_rate,marker='s',markerfacecolor=\"red\",linestyle=\":\",markersize=10)\n",
    "plt.xlabel('K Values')\n",
    "plt.ylabel('Error_rate vs K values')\n",
    "plt.grid()"
   ]
  },
  {
   "cell_type": "markdown",
   "id": "030c1ca3-101d-408d-a8eb-c04579fabc84",
   "metadata": {},
   "source": [
    "## A9"
   ]
  },
  {
   "cell_type": "markdown",
   "id": "e031d88e-0782-4ccd-959e-299d4c4e5b9e",
   "metadata": {},
   "source": [
    "Please evaluate confusion matrix for your classification problem. From confusion matrix, the \n",
    "other performance metrics such as precision, recall and F1-Score measures for both training and test \n",
    "data."
   ]
  },
  {
   "cell_type": "code",
   "execution_count": 58,
   "id": "240b1de3-2f4e-4c53-a58c-56599e4de97c",
   "metadata": {},
   "outputs": [],
   "source": [
    "from sklearn.metrics import confusion_matrix, classification_report"
   ]
  },
  {
   "cell_type": "code",
   "execution_count": 59,
   "id": "5441ddc5-d84b-4b07-a5ab-bb468b858695",
   "metadata": {},
   "outputs": [],
   "source": [
    "knn = KNeighborsClassifier(n_neighbors=3)\n",
    "knn.fit(X_train.values,y_train)\n",
    "pred = knn.predict(X_test.values)"
   ]
  },
  {
   "cell_type": "code",
   "execution_count": 60,
   "id": "5a8042e6-741c-4e9d-b09a-ffd33952e265",
   "metadata": {},
   "outputs": [
    {
     "name": "stdout",
     "output_type": "stream",
     "text": [
      "              precision    recall  f1-score   support\n",
      "\n",
      "           0       0.56      0.82      0.66       105\n",
      "           1       0.73      0.75      0.74        72\n",
      "           2       0.57      0.26      0.36        31\n",
      "           3       0.67      0.40      0.50         5\n",
      "           4       0.75      0.43      0.55         7\n",
      "           5       0.38      0.18      0.24        17\n",
      "           6       0.67      0.55      0.60        11\n",
      "           7       0.67      0.50      0.57         4\n",
      "           8       0.00      0.00      0.00         2\n",
      "           9       0.00      0.00      0.00        10\n",
      "          10       0.00      0.00      0.00         6\n",
      "\n",
      "    accuracy                           0.61       270\n",
      "   macro avg       0.45      0.35      0.38       270\n",
      "weighted avg       0.57      0.61      0.57       270\n",
      "\n",
      "[[86  9  3  1  1  3  2  0  0  0  0]\n",
      " [16 54  2  0  0  0  0  0  0  0  0]\n",
      " [20  2  8  0  0  0  1  0  0  0  0]\n",
      " [ 1  1  0  2  0  0  0  0  1  0  0]\n",
      " [ 3  0  0  0  3  1  0  0  0  0  0]\n",
      " [ 7  5  1  0  0  3  0  1  0  0  0]\n",
      " [ 5  0  0  0  0  0  6  0  0  0  0]\n",
      " [ 0  2  0  0  0  0  0  2  0  0  0]\n",
      " [ 2  0  0  0  0  0  0  0  0  0  0]\n",
      " [ 9  1  0  0  0  0  0  0  0  0  0]\n",
      " [ 5  0  0  0  0  1  0  0  0  0  0]]\n"
     ]
    },
    {
     "name": "stderr",
     "output_type": "stream",
     "text": [
      "C:\\Users\\Pranav\\AppData\\Local\\Programs\\Python\\Python311\\Lib\\site-packages\\sklearn\\metrics\\_classification.py:1469: UndefinedMetricWarning: Precision and F-score are ill-defined and being set to 0.0 in labels with no predicted samples. Use `zero_division` parameter to control this behavior.\n",
      "  _warn_prf(average, modifier, msg_start, len(result))\n",
      "C:\\Users\\Pranav\\AppData\\Local\\Programs\\Python\\Python311\\Lib\\site-packages\\sklearn\\metrics\\_classification.py:1469: UndefinedMetricWarning: Precision and F-score are ill-defined and being set to 0.0 in labels with no predicted samples. Use `zero_division` parameter to control this behavior.\n",
      "  _warn_prf(average, modifier, msg_start, len(result))\n",
      "C:\\Users\\Pranav\\AppData\\Local\\Programs\\Python\\Python311\\Lib\\site-packages\\sklearn\\metrics\\_classification.py:1469: UndefinedMetricWarning: Precision and F-score are ill-defined and being set to 0.0 in labels with no predicted samples. Use `zero_division` parameter to control this behavior.\n",
      "  _warn_prf(average, modifier, msg_start, len(result))\n"
     ]
    }
   ],
   "source": [
    "print(classification_report(y_test,pred))\n",
    "print(confusion_matrix(y_test,pred))"
   ]
  },
  {
   "cell_type": "markdown",
   "id": "7a5f690e-8175-44cb-bb69-643c5eba548a",
   "metadata": {},
   "source": [
    "#### This code is written only by Prabhav Ravi Tammanashastri"
   ]
  }
 ],
 "metadata": {
  "kernelspec": {
   "display_name": "Python 3 (ipykernel)",
   "language": "python",
   "name": "python3"
  },
  "language_info": {
   "codemirror_mode": {
    "name": "ipython",
    "version": 3
   },
   "file_extension": ".py",
   "mimetype": "text/x-python",
   "name": "python",
   "nbconvert_exporter": "python",
   "pygments_lexer": "ipython3",
   "version": "3.11.1"
  }
 },
 "nbformat": 4,
 "nbformat_minor": 5
}
